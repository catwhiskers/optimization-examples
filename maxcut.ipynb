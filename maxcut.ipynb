{
 "cells": [
  {
   "cell_type": "markdown",
   "id": "29c78a1d",
   "metadata": {},
   "source": [
    "### Install necessary packages \n",
    "* [ortools](https://developers.google.com/optimization) is an open source optimization tool "
   ]
  },
  {
   "cell_type": "code",
   "execution_count": null,
   "id": "6ef369f9",
   "metadata": {},
   "outputs": [],
   "source": [
    "!python -m pip install --upgrade --user ortools "
   ]
  },
  {
   "cell_type": "markdown",
   "id": "ba6e3faa",
   "metadata": {},
   "source": [
    "### Using 4-vertices clique to demo maxcut algorithm in ortool "
   ]
  },
  {
   "cell_type": "markdown",
   "id": "9519c043",
   "metadata": {},
   "source": [
    "* network visualization \n",
    "* graph partition and cut counting   \n",
    "* objective function "
   ]
  },
  {
   "cell_type": "code",
   "execution_count": null,
   "id": "a2be0a6a",
   "metadata": {},
   "outputs": [],
   "source": [
    "import networkx as nx\n",
    "\n",
    "n_nodes = 4\n",
    "p = 1  # probability of an edge, exercise, can change it to other probability \n",
    "# p = 0.3\n",
    "seed = 1967\n",
    "\n",
    "g = nx.erdos_renyi_graph(n_nodes, p=p, seed=seed)\n",
    "positions = nx.spring_layout(g, seed=seed)\n",
    "\n",
    "nx.draw(g, with_labels=True, pos=positions, node_size=600)"
   ]
  },
  {
   "cell_type": "markdown",
   "id": "9f3f10fc",
   "metadata": {},
   "source": [
    "## Use OR-Tools to solve Max Cut Problem \n",
    "\n",
    "* Objective function is quadratic \n",
    "* Using CP_Model and intermediate variables to optimize quadratic target function "
   ]
  },
  {
   "cell_type": "code",
   "execution_count": null,
   "id": "16afecf6",
   "metadata": {},
   "outputs": [],
   "source": [
    "# might needs restart the notebook \n",
    "from ortools.sat.python import cp_model"
   ]
  },
  {
   "cell_type": "code",
   "execution_count": null,
   "id": "c44e357a",
   "metadata": {},
   "outputs": [],
   "source": [
    "model = cp_model.CpModel()\n",
    "x0 = model.NewIntVar(-1, 1, 'x0')\n",
    "x1 = model.NewIntVar(-1, 1, 'x1')\n",
    "x2 = model.NewIntVar(-1, 1, 'x2')\n",
    "x3 = model.NewIntVar(-1, 1, 'x3')\n",
    "\n",
    "\n",
    "a = model.NewIntVar(-1, 1, 'a')\n",
    "b = model.NewIntVar(-1, 1, 'b')\n",
    "c = model.NewIntVar(-1, 1, 'c')\n",
    "d = model.NewIntVar(-1, 1, 'd')\n",
    "e = model.NewIntVar(-1, 1, 'e')\n",
    "f = model.NewIntVar(-1, 1, 'f')\n",
    "\n",
    "\n",
    "model.AddMultiplicationEquality(a, [x0, x1])\n",
    "model.AddMultiplicationEquality(b, [x1, x2])\n",
    "model.AddMultiplicationEquality(c, [x2, x3])\n",
    "model.AddMultiplicationEquality(d, [x3, x0])\n",
    "model.AddMultiplicationEquality(e, [x0, x2])\n",
    "model.AddMultiplicationEquality(f, [x1, x3])\n",
    "\n",
    "\n"
   ]
  },
  {
   "cell_type": "code",
   "execution_count": null,
   "id": "3c406738",
   "metadata": {},
   "outputs": [],
   "source": [
    "# model.Maximize( 1-b + 1-c + 1-e ) \n",
    "model.Maximize(1-a + 1-b + 1-c + 1-d + 1-e + 1 - f) \n",
    "solver = cp_model.CpSolver()\n",
    "solution_printer = cp_model.VarArrayAndObjectiveSolutionPrinter([x0, x1, x2, x3])\n",
    "status = solver.Solve(model, solution_printer)\n",
    "\n"
   ]
  },
  {
   "cell_type": "code",
   "execution_count": null,
   "id": "ef29a56d",
   "metadata": {},
   "outputs": [],
   "source": [
    "print (solver.StatusName(status))"
   ]
  },
  {
   "cell_type": "markdown",
   "id": "4241d593",
   "metadata": {},
   "source": [
    "### Max cut over n-vertices graph"
   ]
  },
  {
   "cell_type": "code",
   "execution_count": null,
   "id": "fafd6bc4",
   "metadata": {},
   "outputs": [],
   "source": [
    "import networkx as nx\n",
    "\n",
    "n_nodes = 25\n",
    "p = 0.5  # probability of an edge\n",
    "seed = 1967\n",
    "\n",
    "g = nx.erdos_renyi_graph(n_nodes, p=p, seed=seed)\n",
    "positions = nx.spring_layout(g, seed=seed)\n",
    "\n",
    "nx.draw(g, with_labels=True, pos=positions, node_size=600)"
   ]
  },
  {
   "cell_type": "code",
   "execution_count": null,
   "id": "d0da5d13",
   "metadata": {},
   "outputs": [],
   "source": [
    "edges = nx.to_numpy_matrix(g)"
   ]
  },
  {
   "cell_type": "code",
   "execution_count": null,
   "id": "9484dfc5",
   "metadata": {},
   "outputs": [],
   "source": [
    "edges = edges.tolist()\n",
    "edges"
   ]
  },
  {
   "cell_type": "code",
   "execution_count": null,
   "id": "1d439ff5",
   "metadata": {},
   "outputs": [],
   "source": [
    "model = cp_model.CpModel()\n",
    "\n",
    "nodes = [None for i in range(0, n_nodes)] \n",
    "for i in range(0, n_nodes): \n",
    "    name = \"x\"+str(i)\n",
    "    nodes[i] = model.NewIntVar(-1, 1, name)\n",
    "\n",
    "optvar = [[None for i in range(0, n_nodes)] for j in range(0, n_nodes)]     \n",
    "for j in range(0, n_nodes):\n",
    "    for i in range(0, n_nodes):\n",
    "        if j > i:\n",
    "            name = \"x{}x{}\".format(str(i), str(j))\n",
    "            optvar[i][j] = model.NewIntVar(-1, 1, name)\n",
    "            model.AddMultiplicationEquality( optvar[i][j], [nodes[i], nodes[j]])\n",
    "    \n"
   ]
  },
  {
   "cell_type": "code",
   "execution_count": null,
   "id": "5e43fb3c",
   "metadata": {},
   "outputs": [],
   "source": [
    "def objective(optvar, edges, n_nodes):\n",
    "    exp = None \n",
    "    for j in range(0, n_nodes): \n",
    "        for i in range(0, n_nodes): \n",
    "            if j > i and edges[i][j] > 0: \n",
    "                if exp == None: \n",
    "                    exp = (1 - optvar[i][j]*int(edges[i][j]))\n",
    "                else:\n",
    "                    exp += (1 - optvar[i][j]*int(edges[i][j])) \n",
    "    return exp         "
   ]
  },
  {
   "cell_type": "code",
   "execution_count": null,
   "id": "602cedf6",
   "metadata": {},
   "outputs": [],
   "source": [
    "model.Maximize(objective(optvar, edges, n_nodes))"
   ]
  },
  {
   "cell_type": "code",
   "execution_count": null,
   "id": "f0d33b5e",
   "metadata": {},
   "outputs": [],
   "source": [
    "%%time\n",
    "solver = cp_model.CpSolver()\n",
    "solution_printer = cp_model.VarArrayAndObjectiveSolutionPrinter(nodes)\n",
    "solver.parameters.num_search_workers = 12\n",
    "status = solver.Solve(model, solution_printer)"
   ]
  },
  {
   "cell_type": "code",
   "execution_count": null,
   "id": "ed5f3d9a",
   "metadata": {},
   "outputs": [],
   "source": []
  }
 ],
 "metadata": {
  "kernelspec": {
   "display_name": "conda_python3",
   "language": "python",
   "name": "conda_python3"
  },
  "language_info": {
   "codemirror_mode": {
    "name": "ipython",
    "version": 3
   },
   "file_extension": ".py",
   "mimetype": "text/x-python",
   "name": "python",
   "nbconvert_exporter": "python",
   "pygments_lexer": "ipython3",
   "version": "3.6.13"
  }
 },
 "nbformat": 4,
 "nbformat_minor": 5
}
